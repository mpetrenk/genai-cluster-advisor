{
 "cells": [
  {
   "cell_type": "markdown",
   "metadata": {},
   "source": [
    "# 🧙‍♂️ SageMaker Cluster Recommendation Wizard\n",
    "\n",
    "**Intelligent cluster sizing for SageMaker workloads**\n",
    "\n",
    "This notebook provides the same functionality as the desktop version, optimized for Amazon SageMaker environment.\n",
    "\n",
    "## Features:\n",
    "- 300+ synthetic workload examples\n",
    "- TF-IDF similarity matching\n",
    "- LLM analysis via AWS Bedrock\n",
    "- SageMaker-specific recommendations\n",
    "- Public URL sharing\n",
    "\n",
    "---"
   ]
  },
  {
   "cell_type": "markdown",
   "metadata": {},
   "source": [
    "## 📦 Step 1: Install Dependencies\n",
    "\n",
    "First, let's install the required packages in the SageMaker environment:"
   ]
  },
  {
   "cell_type": "code",
   "execution_count": null,
   "metadata": {},
   "outputs": [],
   "source": [
    "# Install required packages\n",
    "!pip install gradio>=4.0.0 pandas>=1.5.0 numpy>=1.21.0 scikit-learn>=1.0.0 --quiet\n",
    "\n",
    "print(\"✅ Dependencies installed successfully!\")"
   ]
  },
  {
   "cell_type": "markdown",
   "metadata": {},
   "source": [
    "## 🔧 Step 2: Import and Setup\n",
    "\n",
    "Import the cluster wizard and verify everything is working:"
   ]
  },
  {
   "cell_type": "code",
   "execution_count": null,
   "metadata": {},
   "outputs": [],
   "source": [
    "# Import the SageMaker cluster wizard\n",
    "import sys\n",
    "import os\n",
    "\n",
    "# If running from uploaded file, adjust path as needed\n",
    "# sys.path.append('/path/to/your/files')\n",
    "\n",
    "# Copy the sagemaker_cluster_wizard.py content here or import it\n",
    "exec(open('sagemaker_cluster_wizard.py').read())\n",
    "\n",
    "print(\"✅ Cluster Wizard imported successfully!\")"
   ]
  },
  {
   "cell_type": "markdown",
   "metadata": {},
   "source": [
    "## 🧪 Step 3: Test the Wizard\n",
    "\n",
    "Let's test the core functionality before launching the full interface:"
   ]
  },
  {
   "cell_type": "code",
   "execution_count": null,
   "metadata": {},
   "outputs": [],
   "source": [
    "# Test the wizard functionality\n",
    "print(\"🧪 Testing SageMaker Cluster Wizard...\")\n",
    "\n",
    "# Initialize wizard\n",
    "wizard = SageMakerClusterWizard()\n",
    "\n",
    "# Test with a sample workload\n",
    "test_input = \"SageMaker training job for deep learning model with 64 CPU cores, 256GB RAM, and 10TB of image data\"\n",
    "\n",
    "recommendation, llm_analysis, similar_workloads = wizard.recommend_cluster(test_input)\n",
    "\n",
    "print(\"\\n📊 Sample Recommendation:\")\n",
    "print(recommendation[:500] + \"...\" if len(recommendation) > 500 else recommendation)\n",
    "\n",
    "print(\"\\n✅ Wizard is working correctly!\")"
   ]
  },
  {
   "cell_type": "markdown",
   "metadata": {},
   "source": [
    "## 🚀 Step 4: Launch the Full Application\n",
    "\n",
    "Now let's launch the complete Gradio interface with public URL sharing:"
   ]
  },
  {
   "cell_type": "code",
   "execution_count": null,
   "metadata": {},
   "outputs": [],
   "source": [
    "# Launch the SageMaker Cluster Wizard with public sharing\n",
    "print(\"🚀 Launching SageMaker Cluster Recommendation Wizard...\")\n",
    "print(\"📡 Generating publicly shareable URL...\")\n",
    "print(\"🔗 You'll be able to share this URL with colleagues!\")\n",
    "\n",
    "# Launch with public sharing enabled\n",
    "interface = launch_sagemaker_wizard(share=True, debug=False)\n",
    "\n",
    "print(\"\\n✅ Application launched successfully!\")\n",
    "print(\"📱 Access the application using the URLs displayed above\")\n",
    "print(\"🌐 The public URL can be shared with others\")"
   ]
  },
  {
   "cell_type": "markdown",
   "metadata": {},
   "source": [
    "## 🎯 Step 5: Quick Launch (Alternative)\n",
    "\n",
    "For convenience, you can also use the quick launch function:"
   ]
  },
  {
   "cell_type": "code",
   "execution_count": null,
   "metadata": {},
   "outputs": [],
   "source": [
    "# Alternative: Quick launch with default settings\n",
    "# Uncomment the line below if you prefer this method\n",
    "\n",
    "# quick_launch()"
   ]
  },
  {
   "cell_type": "markdown",
   "metadata": {},
   "source": [
    "## 📋 Example SageMaker Workloads\n",
    "\n",
    "Here are some example workload descriptions you can try in the application:"
   ]
  },
  {
   "cell_type": "code",
   "execution_count": null,
   "metadata": {},
   "outputs": [],
   "source": [
    "# Example workloads for testing\n",
    "examples = [\n",
    "    \"SageMaker training job for computer vision model on 15TB image dataset. Need 128 CPU cores, 512GB RAM, 8 GPUs, distributed training for 4 data scientists.\",\n",
    "    \n",
    "    \"SageMaker processing job for real-time fraud detection. Processing 2TB transaction data daily, sub-50ms inference latency, 2000 concurrent API calls.\",\n",
    "    \n",
    "    \"SageMaker batch transform job for NLP model inference on 50TB text data. Need 64 CPU cores, 256GB RAM, process 1M documents per hour.\",\n",
    "    \n",
    "    \"SageMaker hyperparameter tuning job testing 100 model configurations. Need 32 CPU cores per job, 128GB RAM, GPU acceleration, parallel execution.\",\n",
    "    \n",
    "    \"SageMaker multi-model endpoint serving 20 models simultaneously. Need 16 CPU cores, 64GB RAM, auto-scaling for variable traffic.\"\n",
    "]\n",
    "\n",
    "print(\"📋 Example SageMaker Workloads:\")\n",
    "for i, example in enumerate(examples, 1):\n",
    "    print(f\"\\n{i}. {example}\")\n",
    "\n",
    "print(\"\\n💡 Copy any of these examples into the application to see recommendations!\")"
   ]
  },
  {
   "cell_type": "markdown",
   "metadata": {},
   "source": [
    "## 🔧 Advanced Configuration\n",
    "\n",
    "You can customize the wizard behavior for specific needs:"
   ]
  },
  {
   "cell_type": "code",
   "execution_count": null,
   "metadata": {},
   "outputs": [],
   "source": [
    "# Advanced configuration options\n",
    "\n",
    "# 1. Launch without public sharing (local only)\n",
    "def launch_local_only():\n",
    "    return launch_sagemaker_wizard(share=False, debug=False)\n",
    "\n",
    "# 2. Launch with debug mode enabled\n",
    "def launch_debug_mode():\n",
    "    return launch_sagemaker_wizard(share=True, debug=True)\n",
    "\n",
    "# 3. Test individual components\n",
    "def test_components():\n",
    "    wizard = SageMakerClusterWizard()\n",
    "    \n",
    "    # Test requirement extraction\n",
    "    test_text = \"Need 64 CPU cores and 256GB RAM for ML training\"\n",
    "    requirements = wizard.extract_requirements(test_text)\n",
    "    print(f\"Extracted requirements: {requirements}\")\n",
    "    \n",
    "    # Test similarity matching\n",
    "    similar = wizard.find_similar_workloads(test_text, top_k=3)\n",
    "    print(f\"Found {len(similar)} similar workloads\")\n",
    "    \n",
    "    return wizard\n",
    "\n",
    "print(\"🔧 Advanced configuration functions defined\")\n",
    "print(\"   - launch_local_only(): Launch without public sharing\")\n",
    "print(\"   - launch_debug_mode(): Launch with debug enabled\")\n",
    "print(\"   - test_components(): Test individual wizard components\")"
   ]
  },
  {
   "cell_type": "markdown",
   "metadata": {},
   "source": [
    "## 🛡️ SageMaker IAM Permissions\n",
    "\n",
    "For full LLM analysis functionality, ensure your SageMaker execution role has the following permissions:"
   ]
  },
  {
   "cell_type": "code",
   "execution_count": null,
   "metadata": {},
   "outputs": [],
   "source": [
    "# Check current AWS credentials and permissions\n",
    "import boto3\n",
    "\n",
    "try:\n",
    "    # Check if we can access Bedrock\n",
    "    bedrock = boto3.client('bedrock-runtime', region_name='us-east-1')\n",
    "    print(\"✅ Bedrock client initialized successfully\")\n",
    "    print(\"🔑 SageMaker execution role has Bedrock access\")\n",
    "    \n",
    "except Exception as e:\n",
    "    print(f\"⚠️  Bedrock access limited: {e}\")\n",
    "    print(\"\\n📋 Required IAM permissions for full functionality:\")\n",
    "    print(\"   - bedrock:InvokeModel\")\n",
    "    print(\"   - bedrock:ListFoundationModels\")\n",
    "    print(\"\\n🔧 Add these to your SageMaker execution role for LLM analysis\")\n",
    "\n",
    "# Check current region\n",
    "session = boto3.Session()\n",
    "current_region = session.region_name\n",
    "print(f\"\\n🌍 Current AWS region: {current_region}\")\n",
    "print(\"💡 Ensure Claude-3.7-Sonnet is available in this region\")"
   ]
  },
  {
   "cell_type": "markdown",
   "metadata": {},
   "source": [
    "## 📊 Dataset Information\n",
    "\n",
    "Information about the synthetic dataset used for recommendations:"
   ]
  },
  {
   "cell_type": "code",
   "execution_count": null,
   "metadata": {},
   "outputs": [],
   "source": [
    "# Display dataset information\n",
    "wizard = SageMakerClusterWizard()\n",
    "\n",
    "print(\"📊 Dataset Statistics:\")\n",
    "print(f\"   Total samples: {len(wizard.dataset)}\")\n",
    "print(f\"   Workload types: {wizard.dataset['workload_type'].nunique()}\")\n",
    "print(f\"   Cluster sizes: {wizard.dataset['recommended_cluster_size'].nunique()}\")\n",
    "\n",
    "print(\"\\n🏷️  Workload Type Distribution:\")\n",
    "print(wizard.dataset['workload_type'].value_counts())\n",
    "\n",
    "print(\"\\n⚙️  Cluster Size Distribution:\")\n",
    "print(wizard.dataset['recommended_cluster_size'].value_counts())\n",
    "\n",
    "print(\"\\n💰 Cost Range:\")\n",
    "print(f\"   Min: ${wizard.dataset['estimated_cost_per_hour'].min():.2f}/hour\")\n",
    "print(f\"   Max: ${wizard.dataset['estimated_cost_per_hour'].max():.2f}/hour\")\n",
    "print(f\"   Avg: ${wizard.dataset['estimated_cost_per_hour'].mean():.2f}/hour\")"
   ]
  },
  {
   "cell_type": "markdown",
   "metadata": {},
   "source": [
    "## 🔄 Restart/Reset\n",
    "\n",
    "If you need to restart the application or clear any issues:"
   ]
  },
  {
   "cell_type": "code",
   "execution_count": null,
   "metadata": {},
   "outputs": [],
   "source": [
    "# Restart/reset functions\n",
    "\n",
    "def restart_wizard():\n",
    "    \"\"\"Restart the wizard with fresh data\"\"\"\n",
    "    global wizard\n",
    "    wizard = SageMakerClusterWizard()\n",
    "    print(\"✅ Wizard restarted successfully\")\n",
    "\n",
    "def clear_gradio_cache():\n",
    "    \"\"\"Clear Gradio temporary files\"\"\"\n",
    "    import tempfile\n",
    "    import shutil\n",
    "    \n",
    "    temp_dir = tempfile.gettempdir()\n",
    "    gradio_dirs = [d for d in os.listdir(temp_dir) if d.startswith('gradio')]\n",
    "    \n",
    "    for gradio_dir in gradio_dirs:\n",
    "        try:\n",
    "            shutil.rmtree(os.path.join(temp_dir, gradio_dir))\n",
    "            print(f\"✅ Cleared {gradio_dir}\")\n",
    "        except:\n",
    "            pass\n",
    "    \n",
    "    print(\"🧹 Gradio cache cleared\")\n",
    "\n",
    "print(\"🔄 Restart functions available:\")\n",
    "print(\"   - restart_wizard(): Reinitialize the wizard\")\n",
    "print(\"   - clear_gradio_cache(): Clear temporary files\")"
   ]
  },
  {
   "cell_type": "markdown",
   "metadata": {},
   "source": [
    "## 📞 Support & Troubleshooting\n",
    "\n",
    "Common issues and solutions:"
   ]
  },
  {
   "cell_type": "code",
   "execution_count": null,
   "metadata": {},
   "outputs": [],
   "source": [
    "# Troubleshooting helper\n",
    "def run_diagnostics():\n",
    "    \"\"\"Run diagnostic checks\"\"\"\n",
    "    print(\"🔍 Running SageMaker Cluster Wizard Diagnostics...\")\n",
    "    print(\"=\" * 50)\n",
    "    \n",
    "    # Check Python version\n",
    "    print(f\"🐍 Python version: {sys.version}\")\n",
    "    \n",
    "    # Check required packages\n",
    "    packages = ['gradio', 'pandas', 'numpy', 'sklearn', 'boto3']\n",
    "    for pkg in packages:\n",
    "        try:\n",
    "            __import__(pkg)\n",
    "            print(f\"✅ {pkg}\")\n",
    "        except ImportError:\n",
    "            print(f\"❌ {pkg} - not installed\")\n",
    "    \n",
    "    # Check AWS credentials\n",
    "    try:\n",
    "        session = boto3.Session()\n",
    "        credentials = session.get_credentials()\n",
    "        if credentials:\n",
    "            print(\"✅ AWS credentials available\")\n",
    "        else:\n",
    "            print(\"⚠️  AWS credentials not found\")\n",
    "    except Exception as e:\n",
    "        print(f\"❌ AWS credentials error: {e}\")\n",
    "    \n",
    "    # Check network connectivity\n",
    "    try:\n",
    "        import urllib.request\n",
    "        urllib.request.urlopen('https://www.google.com', timeout=5)\n",
    "        print(\"✅ Internet connectivity\")\n",
    "    except:\n",
    "        print(\"❌ No internet connectivity\")\n",
    "    \n",
    "    print(\"\\n🎯 Diagnostics complete!\")\n",
    "\n",
    "# Run diagnostics\n",
    "run_diagnostics()"
   ]
  },
  {
   "cell_type": "markdown",
   "metadata": {},
   "source": [
    "---\n",
    "\n",
    "## 🎉 Ready to Use!\n",
    "\n",
    "Your SageMaker Cluster Recommendation Wizard is now ready. The application provides:\n",
    "\n",
    "- **🎯 Intelligent Recommendations** - Based on 300+ workload examples\n",
    "- **🤖 LLM Analysis** - Powered by Claude-3.7-Sonnet via Bedrock\n",
    "- **📊 Similarity Matching** - TF-IDF vectorization with cosine similarity\n",
    "- **💰 Cost Estimation** - Hourly and daily pricing estimates\n",
    "- **🌐 Public Sharing** - Shareable URLs for collaboration\n",
    "- **⚙️ SageMaker Integration** - Optimized for SageMaker workloads\n",
    "\n",
    "**Next Steps:**\n",
    "1. Use the application via the URLs provided above\n",
    "2. Try the example workloads to see recommendations\n",
    "3. Share the public URL with your team\n",
    "4. Customize for your specific use cases\n",
    "\n",
    "**Happy cluster sizing! 🚀**"
   ]
  }
 ],
 "metadata": {
  "kernelspec": {
   "display_name": "Python 3",
   "language": "python",
   "name": "python3"
  },
  "language_info": {
   "codemirror_mode": {
    "name": "ipython",
    "version": 3
   },
   "file_extension": ".py",
   "mimetype": "text/x-python",
   "name": "python",
   "nbconvert_exporter": "python",
   "pygments_lexer": "ipython3",
   "version": "3.8.5"
  }
 },
 "nbformat": 4,
 "nbformat_minor": 4
}
